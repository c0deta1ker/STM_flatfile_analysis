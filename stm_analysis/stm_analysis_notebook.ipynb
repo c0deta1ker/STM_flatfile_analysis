{
 "cells": [
  {
   "cell_type": "markdown",
   "metadata": {
    "deletable": true,
    "editable": true
   },
   "source": [
    "    Version control:\n",
    "      Last updated Jupyter notebook: 09-05-2017\n",
    "      Compatible MATRIX versions: 3.3.1, 3.0.\n",
    "      Python version: 3.6.1\n",
    "    \n",
    "    Authors:\n",
    "      Procopios Constantinou & Tobias Gill\n",
    "      London Centre for Nanotechnology\n",
    "      procopios.constantinou.16@ucl.ac.uk\n",
    "      toby.gill.09@ucl.ac.uk"
   ]
  },
  {
   "cell_type": "markdown",
   "metadata": {
    "deletable": true,
    "editable": true
   },
   "source": [
    "# STM data summary and analysis platform\n",
    "\n",
    "### Contents\n",
    "* [0 - Installing Jupyter Notebook](#0)\n",
    "* [1 - Data selection](#1)\n",
    "* [2 - Topography analysis](#2)\n",
    "* [3 - Spectroscopy I(V) analysis](#3)\n",
    "* [4 - Current-distance I(z) analysis](#4)\n",
    "* [5 - Current-imaging-tunneling spectroscopy (CITS) analysis](#5)\n",
    "* [6 - Supplementary information](#6)"
   ]
  },
  {
   "cell_type": "markdown",
   "metadata": {
    "deletable": true,
    "editable": true
   },
   "source": [
    "This is a [Jupyter notebook](http://jupyter.readthedocs.io/en/latest/) that summarises and analyses any data obtained from STM experiments performed at the [London Centre for Nanotechnology (LCN)](https://www.london-nano.com/). The raw data can take the form of a topography scan (*.Z_flat* file), a spectroscopy scan (*.I(V)_flat* file) and a current-distance scan (*I(Z)_flat* file) - all of which are displayed and analysed within this Jupyter notebook.\n",
    "\n",
    "There are two essential requirements for this Jupyter notebook to run without any issues:\n",
    "- The initial raw MATRIX files must be converted to flat-files by using the [Vernissage](http://www.scientaomicron.com/en/software-downloads-matrix-spm-control/55) software, available by Scienta Omicron, for them to be viewed and/or analysed by this Jupyter notebook. More importantly, this will then allow you to use Vernissage as a data reduction tool, such that all the *good* and *sensible* data can be imported into this Jupyter notebook for viewing and subsequent analysis.\n",
    "- The path to the parent directory, that holds all the data directories, each of which contain all the flat-files, must be defined by the *dataPath* variable and the path to the directory that contains the stm-analysis module must be defined by the *modulePath* variable.\n",
    "\n",
    "\n",
    "This Jupyter notebook uses a *minimalistic* and *simplistic* interface so that you can get started right away, even with no prior training to the Python language."
   ]
  },
  {
   "cell_type": "markdown",
   "metadata": {
    "deletable": true,
    "editable": true
   },
   "source": [
    "## 0 - Installing Jupyter Notebook <a class=\"anchor\" id=\"0\"></a>\n",
    "While Jupyter runs code in many programming languages, Python is a requirement (Python 3.3 or greater, or Python 2.7) for installing the Jupyter Notebook. For new users, it is highly recommended [installing Anaconda](https://www.continuum.io/downloads). Anaconda conveniently installs Python, the Jupyter Notebook, and other commonly used packages for scientific computing and data science. It essentially is all you need, for either Mac or Windows.\n",
    "\n",
    "Use the following installation steps:\n",
    "\n",
    "1. Download [Anaconda](https://www.continuum.io/downloads) and it is recommended to download Anaconda’s latest Python 3 version (currently Python 3.6.1).\n",
    "2. Install the version of Anaconda which you downloaded, following the instructions on the download page.\n",
    "3. Once Anaconda has been downloaded, run the Anaconda (or Anaconda - Navigator) application and on the home-page, select install Jupyter notebook.\n",
    "4. Congratulations, you have installed Jupyter Notebook and can get started right away!"
   ]
  },
  {
   "cell_type": "markdown",
   "metadata": {
    "deletable": true,
    "editable": true
   },
   "source": [
    "## 1 - Data selection <a class=\"anchor\" id=\"1\"></a>\n",
    "This first section of the Jupyter notebook is critical, as the data you select here is what will be subsequently displayed and analysed. Therefore, you should make sure the correct file path is written for both the *dataPath* and *modulePath* variables;\n",
    "- *dataPath*: The path to the directory that holds the **folders** of all the different STM flat-file data.\n",
    "- *modulePath*: The path to the directory that holds the **stm_analysis.py** script, which yields all the classes and functions to perform all the data-viewing and analysis.\n",
    "\n",
    "\n",
    "If this is done correctly, the code in this section will run smoothly and the output will be a set of iPython button widgets (whose labels are identical to the folder names) that will allow you to select which folder of flat-file data should be loaded as the *data* object, which will hold all of the data from the chosen directory. One important thing to note is that if you select a different data directory during the analysis, all the analysis code will need to be restarted again (easiest to do this by going to the menu and selecting 'Kernel > Restart and Run all')."
   ]
  },
  {
   "cell_type": "markdown",
   "metadata": {
    "deletable": true,
    "editable": true
   },
   "source": [
    "The true power of this Jupyter notebook is that it allows you to load in **multiple folders simultaneously**, from **completly different *dataPath* directories**. If you wish to exploit this, all you need to do is follow the convention laid out here:\n",
    "- If you wish to select multiple folders of data from the **same** *dataPath* directory, then you can create multiple *data* objects (labelled *data_1*, *data_2*, ..., *data_N*) from the same *dataPath*, which can each be called by '*data_N = stm.DataSelection(dataPath)*'.\n",
    "- If you wish to select multiple folders of data from **different** *dataPath* directories, then you can define each *dataPath* explicitly (labelled *dataPath_1*, *dataPath_2*, ..., *dataPath_N*) and then create unique *data* objects (labelled *data_1*, *data_2*, ..., *data_N*) associated with each *dataPath* defined. This can be called by '*data_N = stm.DataSelection(dataPath_N)*'.\n",
    "- Finally, all subsequent viewing and data analysis on all these different *data_N* objects can be performed by passing each *data_N* object through the stm analysis code, within the same cells. This will then display all the output figures adjacent to eachother, allowing them to be easily and simultaneously compared."
   ]
  },
  {
   "cell_type": "code",
   "execution_count": 1,
   "metadata": {
    "collapsed": false,
    "deletable": true,
    "editable": true
   },
   "outputs": [],
   "source": [
    "# Loading in the file path the stm analysis module\n",
    "modulePath = '/Users/pconstantinou/Documents/Prog_GitHub/STM_flatfile_analysis/stm_analysis/'\n",
    "# Loading in the file path to data_1 directories\n",
    "dataPath_1 = '/Users/pconstantinou/Documents/Prog_PYTHON/stm_project/stm_data/'"
   ]
  },
  {
   "cell_type": "code",
   "execution_count": 2,
   "metadata": {
    "collapsed": false,
    "deletable": true,
    "editable": true
   },
   "outputs": [],
   "source": [
    "# Forcing all figures to be plotted in-line throughout the JuPyter notebook\n",
    "%matplotlib inline\n",
    "# Importing all the necessary python modules\n",
    "import sys                                   # Import the system parameters\n",
    "sys.path.insert(0, modulePath)               # Change the working directory to that of the stm analysis modules\n",
    "import stm_analysis as stm                   # Import the stm-analysis code"
   ]
  },
  {
   "cell_type": "code",
   "execution_count": 3,
   "metadata": {
    "collapsed": false,
    "deletable": true,
    "editable": true
   },
   "outputs": [
    {
     "data": {},
     "metadata": {},
     "output_type": "display_data"
    },
    {
     "data": {},
     "metadata": {},
     "output_type": "display_data"
    }
   ],
   "source": [
    "# Define the data objects that will extract all STM data from the selected data directories\n",
    "data_1 = stm.DataSelection(dataPath_1)"
   ]
  },
  {
   "cell_type": "markdown",
   "metadata": {
    "deletable": true,
    "editable": true
   },
   "source": [
    "## 2 - Topography analysis <a class=\"anchor\" id=\"2\"></a>"
   ]
  },
  {
   "cell_type": "markdown",
   "metadata": {
    "deletable": true,
    "editable": true
   },
   "source": [
    "### 2.1 - Image and Leveling operations"
   ]
  },
  {
   "cell_type": "markdown",
   "metadata": {
    "deletable": true,
    "editable": true
   },
   "source": [
    "global plane,\n",
    "local plane,\n",
    "linewise subtraction,\n",
    "three-point,\n",
    "polynomial background removal,\n",
    "zeroing the bottom of the stm plot."
   ]
  },
  {
   "cell_type": "markdown",
   "metadata": {
    "deletable": true,
    "editable": true
   },
   "source": [
    "rotation stm.stm_rotate, \n",
    "flipping, \n",
    "X and Y image inversion, \n",
    "data arithmetic, \n",
    "crop stm.stm_crop, \n",
    "resampling, \n",
    "thresholding,\n",
    "colorbar style,\n",
    "contrast control with widget.\n",
    "\n",
    "Print out the dictionary of information next to the figure"
   ]
  },
  {
   "cell_type": "markdown",
   "metadata": {
    "deletable": true,
    "editable": true
   },
   "source": [
    "### 2.2 - 1D line profiles"
   ]
  },
  {
   "cell_type": "markdown",
   "metadata": {
    "deletable": true,
    "editable": true
   },
   "source": [
    "Line profile over given P1 and P2 points in nanometers,\n",
    "Potential to fit a Gaussian to the line profile and return its maximum height and std. dev.\n",
    "Line profile analysis to fit sinusoid with Gaussians."
   ]
  },
  {
   "cell_type": "code",
   "execution_count": 4,
   "metadata": {
    "collapsed": false,
    "deletable": true,
    "editable": true
   },
   "outputs": [
    {
     "ename": "AttributeError",
     "evalue": "module 'stm_analysis' has no attribute 'stm_profile_plot'",
     "traceback": [
      "\u001b[0;31m---------------------------------------------------------------------------\u001b[0m",
      "\u001b[0;31mAttributeError\u001b[0m                            Traceback (most recent call last)",
      "\u001b[0;32m<ipython-input-4-4a6c7db7ff53>\u001b[0m in \u001b[0;36m<module>\u001b[0;34m()\u001b[0m\n\u001b[1;32m      1\u001b[0m \u001b[0;32mimport\u001b[0m \u001b[0mnumpy\u001b[0m \u001b[0;32mas\u001b[0m \u001b[0mnp\u001b[0m\u001b[0;34m\u001b[0m\u001b[0m\n\u001b[1;32m      2\u001b[0m \u001b[0mpoints\u001b[0m \u001b[0;34m=\u001b[0m \u001b[0mnp\u001b[0m\u001b[0;34m.\u001b[0m\u001b[0marray\u001b[0m\u001b[0;34m(\u001b[0m\u001b[0;34m[\u001b[0m\u001b[0;34m[\u001b[0m\u001b[0;36m5\u001b[0m\u001b[0;34m,\u001b[0m\u001b[0;36m4\u001b[0m\u001b[0;34m]\u001b[0m\u001b[0;34m,\u001b[0m\u001b[0;34m[\u001b[0m\u001b[0;36m5\u001b[0m\u001b[0;34m,\u001b[0m\u001b[0;36m2\u001b[0m\u001b[0;34m]\u001b[0m\u001b[0;34m]\u001b[0m\u001b[0;34m)\u001b[0m\u001b[0;34m\u001b[0m\u001b[0m\n\u001b[0;32m----> 3\u001b[0;31m \u001b[0mstm\u001b[0m\u001b[0;34m.\u001b[0m\u001b[0mstm_profile_plot\u001b[0m\u001b[0;34m(\u001b[0m\u001b[0ma\u001b[0m\u001b[0;34m.\u001b[0m\u001b[0mdata\u001b[0m\u001b[0;34m,\u001b[0m \u001b[0mpoints\u001b[0m\u001b[0;34m)\u001b[0m\u001b[0;34m\u001b[0m\u001b[0m\n\u001b[0m",
      "\u001b[0;31mAttributeError\u001b[0m: module 'stm_analysis' has no attribute 'stm_profile_plot'"
     ],
     "output_type": "error"
    }
   ],
   "source": [
    "import numpy as np\n",
    "points = np.array([[5,4],[5,2]])\n",
    "stm.stm_profile_plot(a.data, points)"
   ]
  },
  {
   "cell_type": "code",
   "execution_count": null,
   "metadata": {
    "collapsed": false,
    "deletable": true,
    "editable": true
   },
   "outputs": [],
   "source": [
    "profile_data, length = stm.profile(points, a.data)\n",
    "stm.profile_plot(profile_data, length)"
   ]
  },
  {
   "cell_type": "markdown",
   "metadata": {
    "deletable": true,
    "editable": true
   },
   "source": [
    "### 2.3 - Fast Fourier Transform"
   ]
  },
  {
   "cell_type": "code",
   "execution_count": null,
   "metadata": {
    "collapsed": false,
    "deletable": true,
    "editable": true
   },
   "outputs": [],
   "source": [
    ""
   ]
  },
  {
   "cell_type": "markdown",
   "metadata": {
    "deletable": true,
    "editable": true
   },
   "source": [
    "### 2.4 - 3D topography profile"
   ]
  },
  {
   "cell_type": "markdown",
   "metadata": {
    "deletable": true,
    "editable": true
   },
   "source": [
    "1D and 2D FFT filtering"
   ]
  },
  {
   "cell_type": "markdown",
   "metadata": {
    "collapsed": true,
    "deletable": true,
    "editable": true
   },
   "source": [
    "## 3 - Spectroscopy I(V) analysis <a class=\"anchor\" id=\"3\"></a>"
   ]
  },
  {
   "cell_type": "code",
   "execution_count": 5,
   "metadata": {
    "collapsed": false,
    "deletable": true,
    "editable": true
   },
   "outputs": [
    {
     "data": {},
     "metadata": {},
     "output_type": "display_data"
    },
    {
     "data": {},
     "metadata": {},
     "output_type": "display_data"
    }
   ],
   "source": [
    "# Analysing all the STM spectroscopy curves for the selected directory\n",
    "sts_1 = stm.STS(data_1)"
   ]
  },
  {
   "cell_type": "markdown",
   "metadata": {
    "deletable": true,
    "editable": true
   },
   "source": [
    "The spectroscopy I(V) analysis can be broken up into three main parts:\n",
    "1. Intermediate plots.\n",
    "2. Point STS.\n",
    "3. Line STS.\n",
    "\n",
    "Each of these show you different information about the I(V) data that has been selected.\n",
    "\n",
    "\n",
    "DISCUSSION INTO HOW THE STS ANALYSIS WORKS.\n",
    "    (i)How the mean is determined?\n",
    "    (i)What does each button do?\n",
    "    (ii) How to use the band-gap calculator in Point STS mode\n",
    "    \n",
    "First, the raw dI/dV curves were\n",
    "vertically offset by a factor of 1.1 times the minimum conductance value to ensure no data points\n",
    "were negative. \n",
    "\n",
    "The height of the band gap is determine by the average.\n",
    "\n",
    "STS mode; Point, Line, \n",
    "\n",
    "Savitzy golay has a window length of 51 in the program\n",
    "\n",
    "Variance is calculated by finding the difference of the mean of the squares to the mean\n",
    "\n",
    "with line STS, HAVE THE FUNCTION TO PLOT AN IMAGE directly from all the sts curves. Say that to get a decent image, you need at least 100 points across so get a good idea of the VBM/CBM positions.Plot the dIdV as lines and you can get an image from it. Do this in the Line STS analysis section.\n",
    "\n",
    "Set a color slider for the contrast.\n",
    "    "
   ]
  },
  {
   "cell_type": "markdown",
   "metadata": {
    "collapsed": true,
    "deletable": true,
    "editable": true
   },
   "source": [
    "## 4 - Current-distance I(z) analysis <a class=\"anchor\" id=\"4\"></a>"
   ]
  },
  {
   "cell_type": "markdown",
   "metadata": {
    "deletable": true,
    "editable": true
   },
   "source": [
    "The zero point of the I(Z) curve is the position that the tip is when it reaches the set-point. It does not give the tip-sample distance! But the I(Z) curve can be used as calibration, provided that the same set point is used for all the scans."
   ]
  },
  {
   "cell_type": "markdown",
   "metadata": {
    "deletable": true,
    "editable": true
   },
   "source": [
    "## 5 - Current-imaging-tunneling spectroscopy (CITS) analysis <a class=\"anchor\" id=\"5\"></a>"
   ]
  },
  {
   "cell_type": "markdown",
   "metadata": {
    "deletable": true,
    "editable": true
   },
   "source": [
    "\n",
    "CITS scans are completly seperate to all other scans.\n",
    "Use matlab to get 3D image of the CITS map.\n"
   ]
  },
  {
   "cell_type": "markdown",
   "metadata": {
    "collapsed": true,
    "deletable": true,
    "editable": true
   },
   "source": [
    "## 6 - Supplementary information  <a class=\"anchor\" id=\"6\"></a>"
   ]
  },
  {
   "cell_type": "markdown",
   "metadata": {
    "collapsed": false,
    "deletable": true,
    "editable": true
   },
   "source": [
    "- *If you perform all the analysis and then change the selected folder in '1 - Data Selection' you will need to run the code consecutively again.*\n",
    "\n",
    "- *If you want to load in multiple files from different directories, this can be performed by creating a new Class that yield. *\n",
    "\n",
    "- *If you double click on any of the figures produced, it will zoom in.*"
   ]
  },
  {
   "cell_type": "code",
   "execution_count": null,
   "metadata": {
    "collapsed": true,
    "deletable": true,
    "editable": true
   },
   "outputs": [],
   "source": [
    ""
   ]
  }
 ],
 "metadata": {
  "kernelspec": {
   "display_name": "Python 3",
   "language": "python",
   "name": "python3"
  },
  "language_info": {
   "codemirror_mode": {
    "name": "ipython",
    "version": 3.0
   },
   "file_extension": ".py",
   "mimetype": "text/x-python",
   "name": "python",
   "nbconvert_exporter": "python",
   "pygments_lexer": "ipython3",
   "version": "3.6.0"
  }
 },
 "nbformat": 4,
 "nbformat_minor": 0
}