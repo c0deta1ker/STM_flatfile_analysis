{
 "cells": [
  {
   "cell_type": "markdown",
   "metadata": {
    "deletable": true,
    "editable": true
   },
   "source": [
    "    Version control:\n",
    "      Last updated Jupyter notebook: 12-05-2017\n",
    "      Compatible MATRIX versions: 3.3.1, 3.0.\n",
    "      Python version: 3.6.1\n",
    "    \n",
    "    Authors:\n",
    "      Procopios Constantinou & Tobias Gill\n",
    "      London Centre for Nanotechnology\n",
    "      procopios.constantinou.16@ucl.ac.uk\n",
    "      toby.gill.09@ucl.ac.uk"
   ]
  },
  {
   "cell_type": "markdown",
   "metadata": {
    "deletable": true,
    "editable": true
   },
   "source": [
    "# STM data summary and analysis platform\n",
    "\n",
    "### Contents\n",
    "* [0 - Installing Jupyter Notebook](#0)\n",
    "* [1 - Data selection](#1)\n",
    "* [2 - Topography analysis](#2)\n",
    "* [3 - Spectroscopy I(V) analysis](#3)\n",
    "* [4 - Current-distance I(z) analysis](#4)\n",
    "* [5 - Current-imaging-tunneling spectroscopy (CITS) analysis](#5)\n",
    "* [6 - Supplementary information](#6)"
   ]
  },
  {
   "cell_type": "markdown",
   "metadata": {
    "deletable": true,
    "editable": true
   },
   "source": [
    "This is a [Jupyter notebook](http://jupyter.readthedocs.io/en/latest/) that summarises and analyses any data obtained from STM experiments performed at the [London Centre for Nanotechnology (LCN)](https://www.london-nano.com/). The raw data can take the form of a topography scan (*.Z_flat* file), a spectroscopy scan (*.I(V)_flat* file) and a current-distance scan (*I(Z)_flat* file) - all of which are displayed and analysed within this Jupyter notebook.\n",
    "\n",
    "There are two essential requirements for this Jupyter notebook to run without any issues:\n",
    "- The initial raw MATRIX files must be converted to flat-files by using the [Vernissage](http://www.scientaomicron.com/en/software-downloads-matrix-spm-control/55) software, available by Scienta Omicron, for them to be viewed and/or analysed by this Jupyter notebook. More importantly, this will then allow you to use Vernissage as a data reduction tool, such that all the *good* and *sensible* data can be imported into this Jupyter notebook for viewing and subsequent analysis.\n",
    "- The path to the parent directory, that holds all the data directories, each of which contain all the flat-files, must be defined by the *dataPath* variable and the path to the directory that contains the stm-analysis module must be defined by the *modulePath* variable.\n",
    "\n",
    "\n",
    "This Jupyter notebook uses a *minimalistic* and *simplistic* interface so that you can get started right away, even with no prior training to the Python language."
   ]
  },
  {
   "cell_type": "markdown",
   "metadata": {
    "deletable": true,
    "editable": true
   },
   "source": [
    "## 0 - Installing Jupyter Notebook <a class=\"anchor\" id=\"0\"></a>\n",
    "While Jupyter runs code in many programming languages, Python is a requirement (Python 3.3 or greater, or Python 2.7) for installing the Jupyter Notebook. For new users, it is highly recommended [installing Anaconda](https://www.continuum.io/downloads). Anaconda conveniently installs Python, the Jupyter Notebook, and other commonly used packages for scientific computing and data science. It essentially is all you need, for either Mac or Windows.\n",
    "\n",
    "Use the following installation steps:\n",
    "\n",
    "1. Download [Anaconda](https://www.continuum.io/downloads) and it is recommended to download Anaconda’s latest Python 3 version (currently Python 3.6.1).\n",
    "2. Install the version of Anaconda which you downloaded, following the instructions on the download page.\n",
    "3. Once Anaconda has been downloaded, run the Anaconda (or Anaconda - Navigator) application and on the home-page, select install Jupyter notebook.\n",
    "4. Congratulations, you have installed Jupyter Notebook and can get started right away! \n",
    "\n",
    "*Hint: All you need to know is the < Shift > < Enter > command that runs a cell of Python code within the Jupyter notebook.*"
   ]
  },
  {
   "cell_type": "markdown",
   "metadata": {
    "deletable": true,
    "editable": true
   },
   "source": [
    "## 1 - Data selection <a class=\"anchor\" id=\"1\"></a>\n",
    "This first section of the Jupyter notebook is critical, as the data you select here is what will be subsequently displayed and analysed. Therefore, you should make sure the correct file path is written for both the *dataPath* and *modulePath* variables;\n",
    "- *dataPath*: The path to the directory that holds the **folders** of all the different STM flat-file data.\n",
    "- *modulePath*: The path to the directory that holds the **stm_analysis.py** script, which yields all the classes and functions to perform all the data-viewing and analysis.\n",
    "\n",
    "\n",
    "If this is done correctly, the code in this section will run smoothly and the output will be a set of iPython button widgets (whose labels are identical to the folder names) that will allow you to select which folder of flat-file data should be loaded as the *data* object, which will hold all of the data from the chosen directory. One important thing to note is that if you select a different data directory during the analysis, all the analysis code will need to be restarted again (easiest to do this by going to the menu and selecting 'Kernel > Restart and Run all')."
   ]
  },
  {
   "cell_type": "markdown",
   "metadata": {
    "deletable": true,
    "editable": true
   },
   "source": [
    "The true power of this Jupyter notebook is that it allows you to load in **multiple folders simultaneously**, from **completly different *dataPath* directories**. If you wish to exploit this, all you need to do is follow the convention laid out here:\n",
    "- If you wish to select multiple folders of data from the **same** *dataPath* directory, then you can create multiple *data* objects (labelled *data_1*, *data_2*, ..., *data_N*) from the same *dataPath*, which can each be called by '*data_N = stm.DataSelection(dataPath)*'.\n",
    "- If you wish to select multiple folders of data from **different** *dataPath* directories, then you can define each *dataPath* explicitly (labelled *dataPath_1*, *dataPath_2*, ..., *dataPath_N*) and then create unique *data* objects (labelled *data_1*, *data_2*, ..., *data_N*) associated with each *dataPath* defined. This can be called by '*data_N = stm.DataSelection(dataPath_N)*'.\n",
    "- Finally, all subsequent viewing and data analysis on all these different *data_N* objects can be performed by passing each *data_N* object through the stm analysis code, within the same cells. This will then display all the output figures adjacent to eachother, allowing them to be easily and simultaneously compared."
   ]
  },
  {
   "cell_type": "code",
   "execution_count": 1,
   "metadata": {
    "collapsed": false,
    "deletable": true,
    "editable": true
   },
   "outputs": [],
   "source": [
    "# Loading in the file path the stm analysis module\n",
    "modulePath = '/Users/pconstantinou/Documents/Prog_GitHub/STM_flatfile_analysis/stm_analysis/'\n",
    "# Loading in the file path to data_1 directories\n",
    "dataPath_1 = '/Users/pconstantinou/Documents/stm_data/'"
   ]
  },
  {
   "cell_type": "code",
   "execution_count": 2,
   "metadata": {
    "collapsed": false,
    "deletable": true,
    "editable": true
   },
   "outputs": [],
   "source": [
    "# Forcing all figures to be plotted in-line throughout the JuPyter notebook\n",
    "%matplotlib inline\n",
    "# Importing all the necessary python modules\n",
    "import sys                                   # Import the system parameters\n",
    "sys.path.insert(0, modulePath)               # Change the working directory to that of the stm analysis modules\n",
    "import stm_analysis as stm                   # Import the stm-analysis code"
   ]
  },
  {
   "cell_type": "code",
   "execution_count": 3,
   "metadata": {
    "collapsed": false,
    "deletable": true,
    "editable": true
   },
   "outputs": [
    {
     "data": {
      "application/vnd.jupyter.widget-view+json": {
       "model_id": "561a4bbcac6b41d0a51a690cda052ed4"
      }
     },
     "metadata": {},
     "output_type": "display_data"
    },
    {
     "data": {
      "application/vnd.jupyter.widget-view+json": {
       "model_id": "7fb1682111da40e388427188fb148590"
      }
     },
     "metadata": {},
     "output_type": "display_data"
    }
   ],
   "source": [
    "# Define the data objects that will extract all STM data from the selected data directories\n",
    "data_1 = stm.DataSelection(dataPath_1)"
   ]
  },
  {
   "cell_type": "markdown",
   "metadata": {},
   "source": [
    "*Hint: If a new dataPath directory is defined, the Python code must be executed from the top again, so that it loads in the changes.*"
   ]
  },
  {
   "cell_type": "markdown",
   "metadata": {
    "deletable": true,
    "editable": true
   },
   "source": [
    "## 2 - Topography analysis <a class=\"anchor\" id=\"2\"></a>"
   ]
  },
  {
   "cell_type": "markdown",
   "metadata": {
    "deletable": true,
    "editable": true
   },
   "source": [
    "### 2.1 - Image and Leveling operations"
   ]
  },
  {
   "cell_type": "markdown",
   "metadata": {
    "deletable": true,
    "editable": true
   },
   "source": [
    "global plane,\n",
    "local plane,\n",
    "linewise subtraction,\n",
    "three-point,\n",
    "polynomial background removal,\n",
    "zeroing the bottom of the stm plot."
   ]
  },
  {
   "cell_type": "markdown",
   "metadata": {
    "deletable": true,
    "editable": true
   },
   "source": [
    "rotation stm.stm_rotate, \n",
    "flipping, \n",
    "X and Y image inversion, \n",
    "data arithmetic, \n",
    "crop stm.stm_crop, \n",
    "resampling, \n",
    "thresholding,\n",
    "colorbar style,\n",
    "contrast control with widget.\n",
    "\n",
    "Print out the dictionary of information next to the figure"
   ]
  },
  {
   "cell_type": "markdown",
   "metadata": {
    "deletable": true,
    "editable": true
   },
   "source": [
    "### 2.2 - 1D line profiles"
   ]
  },
  {
   "cell_type": "markdown",
   "metadata": {
    "deletable": true,
    "editable": true
   },
   "source": [
    "Line profile over given P1 and P2 points in nanometers,\n",
    "Potential to fit a Gaussian to the line profile and return its maximum height and std. dev.\n",
    "Line profile analysis to fit sinusoid with Gaussians."
   ]
  },
  {
   "cell_type": "code",
   "execution_count": 4,
   "metadata": {
    "collapsed": false,
    "deletable": true,
    "editable": true
   },
   "outputs": [
    {
     "ename": "AttributeError",
     "evalue": "module 'stm_analysis' has no attribute 'stm_profile_plot'",
     "output_type": "error",
     "traceback": [
      "\u001b[0;31m---------------------------------------------------------------------------\u001b[0m",
      "\u001b[0;31mAttributeError\u001b[0m                            Traceback (most recent call last)",
      "\u001b[0;32m<ipython-input-4-4a6c7db7ff53>\u001b[0m in \u001b[0;36m<module>\u001b[0;34m()\u001b[0m\n\u001b[1;32m      1\u001b[0m \u001b[0;32mimport\u001b[0m \u001b[0mnumpy\u001b[0m \u001b[0;32mas\u001b[0m \u001b[0mnp\u001b[0m\u001b[0;34m\u001b[0m\u001b[0m\n\u001b[1;32m      2\u001b[0m \u001b[0mpoints\u001b[0m \u001b[0;34m=\u001b[0m \u001b[0mnp\u001b[0m\u001b[0;34m.\u001b[0m\u001b[0marray\u001b[0m\u001b[0;34m(\u001b[0m\u001b[0;34m[\u001b[0m\u001b[0;34m[\u001b[0m\u001b[0;36m5\u001b[0m\u001b[0;34m,\u001b[0m\u001b[0;36m4\u001b[0m\u001b[0;34m]\u001b[0m\u001b[0;34m,\u001b[0m\u001b[0;34m[\u001b[0m\u001b[0;36m5\u001b[0m\u001b[0;34m,\u001b[0m\u001b[0;36m2\u001b[0m\u001b[0;34m]\u001b[0m\u001b[0;34m]\u001b[0m\u001b[0;34m)\u001b[0m\u001b[0;34m\u001b[0m\u001b[0m\n\u001b[0;32m----> 3\u001b[0;31m \u001b[0mstm\u001b[0m\u001b[0;34m.\u001b[0m\u001b[0mstm_profile_plot\u001b[0m\u001b[0;34m(\u001b[0m\u001b[0ma\u001b[0m\u001b[0;34m.\u001b[0m\u001b[0mdata\u001b[0m\u001b[0;34m,\u001b[0m \u001b[0mpoints\u001b[0m\u001b[0;34m)\u001b[0m\u001b[0;34m\u001b[0m\u001b[0m\n\u001b[0m",
      "\u001b[0;31mAttributeError\u001b[0m: module 'stm_analysis' has no attribute 'stm_profile_plot'"
     ]
    }
   ],
   "source": [
    "import numpy as np\n",
    "points = np.array([[5,4],[5,2]])\n",
    "stm.stm_profile_plot(a.data, points)"
   ]
  },
  {
   "cell_type": "code",
   "execution_count": null,
   "metadata": {
    "collapsed": false,
    "deletable": true,
    "editable": true
   },
   "outputs": [],
   "source": [
    "profile_data, length = stm.profile(points, a.data)\n",
    "stm.profile_plot(profile_data, length)"
   ]
  },
  {
   "cell_type": "markdown",
   "metadata": {
    "deletable": true,
    "editable": true
   },
   "source": [
    "### 2.3 - Fast Fourier Transform"
   ]
  },
  {
   "cell_type": "code",
   "execution_count": null,
   "metadata": {
    "collapsed": false,
    "deletable": true,
    "editable": true
   },
   "outputs": [],
   "source": []
  },
  {
   "cell_type": "markdown",
   "metadata": {
    "deletable": true,
    "editable": true
   },
   "source": [
    "### 2.4 - 3D topography profile"
   ]
  },
  {
   "cell_type": "markdown",
   "metadata": {
    "deletable": true,
    "editable": true
   },
   "source": [
    "1D and 2D FFT filtering"
   ]
  },
  {
   "cell_type": "markdown",
   "metadata": {
    "collapsed": true,
    "deletable": true,
    "editable": true
   },
   "source": [
    "## 3 - Spectroscopy I(V) analysis <a class=\"anchor\" id=\"3\"></a>\n",
    "This section will explore the analysis of I(V) spectroscopy curves that were obtained from STS experiments. This is done by using the *stm.STS(data_N)* function, which loads in the *data_N* object from Section 1. All of the relevant Python code executes the analysis in the background and in real-time, as the widget selections are changed. A detailed explanation of each stage of the I(V) curve analysis and the operations available are discussed below."
   ]
  },
  {
   "cell_type": "code",
   "execution_count": 5,
   "metadata": {
    "collapsed": false,
    "deletable": true,
    "editable": true
   },
   "outputs": [
    {
     "data": {
      "application/vnd.jupyter.widget-view+json": {
       "model_id": "c66452a9c79b4d718c4d121f7a1fff78"
      }
     },
     "metadata": {},
     "output_type": "display_data"
    },
    {
     "data": {
      "application/vnd.jupyter.widget-view+json": {
       "model_id": "37606cbe98c14f6bb1fed9b85124827f"
      }
     },
     "metadata": {},
     "output_type": "display_data"
    }
   ],
   "source": [
    "# Analysing all the STM spectroscopy curves for the selected directory`\n",
    "sts_1 = stm.STS(data_1)"
   ]
  },
  {
   "cell_type": "markdown",
   "metadata": {
    "deletable": true,
    "editable": true
   },
   "source": [
    "### 3.1 - *Raw I(V) files*\n",
    "The first step is to load in the raw I(V) curves that you wish to browse through, or analyse, by using the '*Raw I(V) files*' scrollable selection box, located on the far left of the interaction pane. This selection box gives you various amounts of flexibility in regards to data selection:\n",
    "- Single I(V) files can be loaded by simply clicking on the file you wish to view.\n",
    "- Multiple I(V) files can be loaded in simultaneously using three methods; \n",
    "    1. <*Ctrl*> (or <*Command*> on Mac) *clicking* on multiple, individual files loads in specific selections of I(V) curves.\n",
    "    2. <*Shift*>* clicking* allows entire blocks of I(V) files to be loaded in.\n",
    "    3. <*Ctrl*>* + A *(or <*Command*>* + A *on Mac) loads in every single I(V) file.\n",
    "\n",
    "*Note: current tests have been performed with over 400 I(V) curves being loaded in simultaneously and the analysis runs fine, but it may take about ~5-10s to execute completly.*\n",
    "\n",
    "\n",
    "### 3.2 - *I(V) analysis*\n",
    "The I(V) spectroscopy analysis is split up into three main constituents:\n",
    "\n",
    "**1. Intermediate plots: **\n",
    "This performs the full analysis on all the I(V) curves that have been selected and it's corresponding figure shows each stage of the analysis, which follows the steps outlined below:\n",
    "- **Averaging**: A global average is determined from all the I(V) curves that have been selected. If '*Both*' traces are selected, then the average is taken over all the *traces* and *retraces*, however, the '*Traces*' option is there to allow the data analysis to be executed over just the '*Trace*' or '*Retrace*' I(V) curves.\n",
    "- **Smoothing**: Binomial provides smoothing to data points and the smoothing order here controls the window size over which the Binomial smoothing has been performed. Savitzky-Golay smoothing is the default smoothing method as it is found that this provides a much better smoothing in regards to the raw data vs smoothed data. For this method, it has a window length of 51 and the order of the running polynomial is determined by the smoothing order.\n",
    "- **Differentiating**: The dI/dV curve is vertically offset by 1.1 times its minimum value to ensure that there are no data points that are negative.\n",
    "- **Variance**: The variance is calculated by finding the different of the mean of the squares to the mean.\n",
    "    \n",
    "\n",
    "\n",
    "**2. Point STS: **\n",
    "This uses the analysis displayed in the *intermediate plots* section to perform a more rigorous analysis that may generally be associated with spectroscopy curves that are taken at points on the surface.\n",
    "\n",
    "Band-gap calculator;\n",
    "(i) The height of the band gap is the average dI/dV over everything that is within the band-gap window. The 1 sigma value is determined by this and in order to ensure the analysis runs smoothly, the dI/dV curves must always have a minimum, i.e. a band gap. If you find that the dI/dV curve has a minimjum, but at the edges it has values that are decreasing much more due to noise in the I(V) curve, it is reccomended to use the *Restrict V* slider to cut the domain of the I(V) curves such that it has a typical shape and doesn't screw the band-gap calcualtor.\n",
    "\n",
    "\n",
    "\n",
    "**3. Line STS: **\n",
    "This uses the analysis displayed in the *intermediate plots*, but it now does the analysis over each I(V) curve that has been selected seperatly. This is generally associated with spectroscopy curves that are taken over sampled lines on the sample surface to see how the spectroscopy curve changes as you pass over some defect.\n",
    "\n",
    "\n",
    "***Additional Information: ***\n",
    "The *Traces* buttons give you the flexibility of choosing whether to allow the analysis to cover both the trace (forward) I(V) and retrace (backwards) I(V) curves together, or as mutually exclusive data. This will be useful if you find that the trace or retrace curves are inherently unstable, and only wish to analyse the one, but not the other. \n",
    "\n",
    "\n",
    "\n",
    "### 3.3 - *Axes controls*\n",
    "Finally, the '*Axes Controls*' are located on the far-right of the interaction pane and the default condition is that all the axes will *auto-scale* to a sensible size, given the selected I(V) files that have been loaded in. If you wish to change the limits on both the *x-* and *y-*axes directly, you can do this by selecting the '*Axes limit*' button;\n",
    "- The voltage bias *V* slider simply controls the limits over the voltage-domain for all of the figures.\n",
    "- The tunneling current *I* slider controls the symmetrical value of the tunneling current limit along the '*y-*axes' of the figures.\n",
    "- The *dI/dV* slider controls the maximum value of *dI/dV* that appears in the figures and, by default, its minimum is taken at the location of the minimum *dI/dV* value. One important side-note is that you can use the '*dI/dV*' slider as a method to actively control the contrast of the image formed in the *Line STS* analysis section too.\n",
    "\n",
    "\n",
    "If the axes are made smaller than the data being displayed in the figure, the data *does not get deleted or chopped*, rather it just remains invisible and off the axis."
   ]
  },
  {
   "cell_type": "markdown",
   "metadata": {
    "collapsed": true,
    "deletable": true,
    "editable": true
   },
   "source": [
    "## 4 - Current-distance I(z) analysis <a class=\"anchor\" id=\"4\"></a>"
   ]
  },
  {
   "cell_type": "markdown",
   "metadata": {
    "deletable": true,
    "editable": true
   },
   "source": [
    "The zero point of the I(Z) curve is the position that the tip is when it reaches the set-point. It does not give the tip-sample distance! But the I(Z) curve can be used as calibration, provided that the same set point is used for all the scans."
   ]
  },
  {
   "cell_type": "markdown",
   "metadata": {
    "deletable": true,
    "editable": true
   },
   "source": [
    "## 5 - Current-imaging-tunneling spectroscopy (CITS) analysis <a class=\"anchor\" id=\"5\"></a>"
   ]
  },
  {
   "cell_type": "markdown",
   "metadata": {
    "deletable": true,
    "editable": true
   },
   "source": [
    "\n",
    "CITS scans are completly seperate to all other scans.\n",
    "Use matlab to get 3D image of the CITS map.\n"
   ]
  },
  {
   "cell_type": "markdown",
   "metadata": {
    "collapsed": true,
    "deletable": true,
    "editable": true
   },
   "source": [
    "## 6 - Supplementary information  <a class=\"anchor\" id=\"6\"></a>"
   ]
  },
  {
   "cell_type": "markdown",
   "metadata": {
    "collapsed": false,
    "deletable": true,
    "editable": true
   },
   "source": [
    "- *If you perform all the analysis and then change the selected folder in '1 - Data Selection' you will need to run the code consecutively again.*\n",
    "\n",
    "- *If you want to load in multiple files from different directories, this can be performed by creating a new Class that yield. *\n",
    "\n",
    "- *If you double click on any of the figures produced, it will zoom in.*"
   ]
  }
 ],
 "metadata": {
  "kernelspec": {
   "display_name": "Python 3",
   "language": "python",
   "name": "python3"
  },
  "language_info": {
   "codemirror_mode": {
    "name": "ipython",
    "version": 3
   },
   "file_extension": ".py",
   "mimetype": "text/x-python",
   "name": "python",
   "nbconvert_exporter": "python",
   "pygments_lexer": "ipython3",
   "version": "3.6.0"
  }
 },
 "nbformat": 4,
 "nbformat_minor": 0
}
