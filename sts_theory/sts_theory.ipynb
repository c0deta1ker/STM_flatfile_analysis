{
 "cells": [
  {
   "cell_type": "markdown",
   "metadata": {
    "deletable": true,
    "editable": true
   },
   "source": [
    "    Last updated: 11-04-2017\n",
    "    Author:Procopios Constantinou\n",
    "    Email: procopios.constantinou.16@ucl.ac.uk"
   ]
  },
  {
   "cell_type": "markdown",
   "metadata": {
    "deletable": true,
    "editable": true
   },
   "source": [
    "# Theory of Scanning Tunelling Spectroscopy (STS)"
   ]
  },
  {
   "cell_type": "markdown",
   "metadata": {
    "deletable": true,
    "editable": true
   },
   "source": [
    "This is a notebook that demonstrates the concept of obtaining STS curves by convoluting the pre-defined tip density of states, sample density of states and tunneling matrix element (transmission probability through the potential barrier).\n",
    "\n",
    "The sample is assumed to be grounded and the voltage bias is applied directly to the tip."
   ]
  },
  {
   "cell_type": "markdown",
   "metadata": {
    "deletable": true,
    "editable": true
   },
   "source": [
    "## Contents\n",
    "* [1 - Defining the system parameters](#first-bullet)\n",
    "* [2 - Defining the tip parameters](#second-bullet)\n",
    "* [3 - Defining the sample parameters](#third-bullet)\n",
    "* [4 - Defining the tunneling matrix element form](#fourth-bullet)\n",
    "* [5 - Theoretical I(V) and dI/dV spectroscopy curves](#fifth-bullet)\n",
    "* [6 - Summary of the spectroscopy](#sixth-bullet)"
   ]
  },
  {
   "cell_type": "markdown",
   "metadata": {
    "deletable": true,
    "editable": true
   },
   "source": [
    "## Importing python modules and functions "
   ]
  },
  {
   "cell_type": "code",
   "execution_count": 1,
   "metadata": {
    "collapsed": false,
    "deletable": true,
    "editable": true
   },
   "outputs": [],
   "source": [
    "# - Ensuring that the figures are plotted within the notebook\n",
    "%matplotlib inline\n",
    "# - Importing all python modules and scripts\n",
    "import numpy as np                   #Required for data anlysis\n",
    "from sts_funcs import *              #Written stm functions for analysis"
   ]
  },
  {
   "cell_type": "markdown",
   "metadata": {
    "collapsed": false,
    "deletable": true,
    "editable": true
   },
   "source": [
    "## 1 - Defining the system parameters <a class=\"anchor\" id=\"first-bullet\"></a>"
   ]
  },
  {
   "cell_type": "code",
   "execution_count": 2,
   "metadata": {
    "collapsed": false,
    "deletable": true,
    "editable": true
   },
   "outputs": [
    {
     "data": {},
     "metadata": {},
     "output_type": "display_data"
    },
    {
     "data": {},
     "metadata": {},
     "output_type": "display_data"
    },
    {
     "data": {},
     "metadata": {},
     "output_type": "display_data"
    },
    {
     "data": {},
     "metadata": {},
     "output_type": "display_data"
    }
   ],
   "source": [
    "# - System parameter widgets\n",
    "# Defining the domain of the electron energy [eV]\n",
    "WEn = float_range_widget(\"$Energy [eV]$\", -4.0, 4.0, 0.02)\n",
    "# Defining the domain of the voltage bias that is swept [V]\n",
    "WVbias = float_range_widget(\"$Tip$ $bias [V]$\", -2.0, 2.0, 0.02)\n",
    "# Tip-Sample seperation [nm]\n",
    "Wz0 = float_value_widget(\"$z_{0} [nm]$\", 0.1, 2.0, 0.1, 0.8)\n",
    "# System temperature [K]\n",
    "WT0 = float_value_widget(\"$T_{0} [K]$\", 1, 400, 1, 300)"
   ]
  },
  {
   "cell_type": "code",
   "execution_count": 3,
   "metadata": {
    "collapsed": false,
    "deletable": true,
    "editable": true
   },
   "outputs": [],
   "source": [
    "# - Run this to load in all the system parameters once they have been set/changed\n",
    "en = np.around(np.arange(WEn.value[0], WEn.value[1]+WEn.step, WEn.step), 2)\n",
    "bias = np.around(np.arange(WVbias.value[0], WVbias.value[1]+WVbias.step, WVbias.step), 2)\n",
    "z0 = np.around(Wz0.value, 2)\n",
    "T0 = np.around(WT0.value, 2)\n",
    "system = System(en, bias, z0, T0)"
   ]
  },
  {
   "cell_type": "markdown",
   "metadata": {
    "deletable": true,
    "editable": true
   },
   "source": [
    "## 2 - Defining the tip density of states <a class=\"anchor\" id=\"second-bullet\"></a>"
   ]
  },
  {
   "cell_type": "code",
   "execution_count": 4,
   "metadata": {
    "collapsed": false,
    "deletable": true,
    "editable": true
   },
   "outputs": [
    {
     "data": {},
     "metadata": {},
     "output_type": "display_data"
    },
    {
     "data": {},
     "metadata": {},
     "output_type": "display_data"
    }
   ],
   "source": [
    "# - Tip parameter widgets\n",
    "# Select the tip being used\n",
    "Wtipform = buttons_widget(\"$Tip$ $form:$\", [\"W-tip\", \"PtIr-tip\"], \"W-tip\")\n",
    "# Select the tip DOS being used\n",
    "WtipDOS = buttons_widget(\"$Tip$ $form:$\", [\"Metal; Linear\", \"Metal; Gaussian\", \"Metal; Linear + Gaussian\"],\n",
    "                         \"Metal; Linear + Gaussian\")"
   ]
  },
  {
   "cell_type": "code",
   "execution_count": 8,
   "metadata": {
    "collapsed": false,
    "deletable": true,
    "editable": true
   },
   "outputs": [
    {
     "data": {},
     "metadata": {},
     "output_type": "display_data"
    },
    {
     "data": {
      "text/plain": [
       "5.4"
      ]
     },
     "execution_count": 8,
     "metadata": {},
     "output_type": "execute_result"
    }
   ],
   "source": [
    "# - Run this to load in the tip parameters once they have been set/changed\n",
    "tip = tip_dos_plot(system, Wtipform, WtipDOS)"
   ]
  },
  {
   "cell_type": "markdown",
   "metadata": {
    "collapsed": true,
    "deletable": true,
    "editable": true
   },
   "source": [
    "## 3 - Defining the sample density of states <a class=\"anchor\" id=\"third-bullet\"></a>"
   ]
  },
  {
   "cell_type": "code",
   "execution_count": 6,
   "metadata": {
    "collapsed": false,
    "deletable": true,
    "editable": true
   },
   "outputs": [
    {
     "data": {},
     "metadata": {},
     "output_type": "display_data"
    },
    {
     "data": {},
     "metadata": {},
     "output_type": "display_data"
    },
    {
     "data": {},
     "metadata": {},
     "output_type": "display_data"
    },
    {
     "data": {},
     "metadata": {},
     "output_type": "display_data"
    },
    {
     "data": {},
     "metadata": {},
     "output_type": "display_data"
    }
   ],
   "source": [
    "# - Sample parameter widgets\n",
    "# Define the sample being used\n",
    "Wsample = textbox_widget()\n",
    "# Select the sample DOS being used\n",
    "WsampleDOS = buttons_widget(\"$Sample$ $DOS:$\", [\"Metal; Linear\", \"Metal; Gaussian\", \"Semi; Gap + Step\",\n",
    "                                                \"Semi; Gap + Para\",\"Semi; Gap + Para + SS\"], \"Semi; Gap + Para + SS\")\n",
    "# Defining the work function of the sample [eV]\n",
    "Wwrkfunc = float_value_widget(\"$\\Phi [eV]$\", 0.1, 6, 0.1, 4.1)\n",
    "# Defining the energy band-gap of the sample [eV]\n",
    "WegapS = float_value_widget(\"$E_{gap} [eV]$\", 0.0, 2.0, 0.1, 1.1)\n",
    "# Defining the energy off-set from the zero point [eV]\n",
    "WeoffsetS = float_value_widget(\"$E_{gap} [eV]$\", -1.0, 1.0, 0.01, -0.15)"
   ]
  },
  {
   "cell_type": "code",
   "execution_count": 7,
   "metadata": {
    "collapsed": false,
    "deletable": true,
    "editable": true
   },
   "outputs": [
    {
     "data": {},
     "metadata": {},
     "output_type": "display_data"
    }
   ],
   "source": [
    "# - Run this to load in the sample parameters once they have been set/changed\n",
    "sample = sample_dos_plot(system, Wsample, WsampleDOS, Wwrkfunc, WegapS, WeoffsetS)"
   ]
  },
  {
   "cell_type": "markdown",
   "metadata": {
    "collapsed": true,
    "deletable": true,
    "editable": true
   },
   "source": [
    "## 4 - Defining the tunneling matrix element form <a class=\"anchor\" id=\"fourth-bullet\"></a>"
   ]
  },
  {
   "cell_type": "code",
   "execution_count": 8,
   "metadata": {
    "collapsed": false,
    "deletable": true,
    "editable": true
   },
   "outputs": [
    {
     "data": {},
     "metadata": {},
     "output_type": "display_data"
    }
   ],
   "source": [
    "# - Tunneling matrix element widget\n",
    "Wtme_form = buttons_widget(\"$Matrix$ $element$ $form:$\", [\"Constant\", \"WKB approx.\"], \"WKB approx.\")"
   ]
  },
  {
   "cell_type": "code",
   "execution_count": 9,
   "metadata": {
    "collapsed": false,
    "deletable": true,
    "editable": true
   },
   "outputs": [
    {
     "data": {},
     "metadata": {},
     "output_type": "display_data"
    }
   ],
   "source": [
    "tme = tunneling_plot(system, tip, sample, Wtme_form)"
   ]
  },
  {
   "cell_type": "markdown",
   "metadata": {
    "deletable": true,
    "editable": true
   },
   "source": [
    "## 5 - Theoretical I(V) and dI/dV spectroscopy curves <a class=\"anchor\" id=\"fifth-bullet\"></a>"
   ]
  },
  {
   "cell_type": "code",
   "execution_count": 10,
   "metadata": {
    "collapsed": false,
    "deletable": true,
    "editable": true,
    "scrolled": true
   },
   "outputs": [
    {
     "data": {
      "image/png": "[encoded data removed]",
      "text/plain": [
       "<matplotlib.figure.Figure at 0x114ce0f60>"
      ]
     },
     "metadata": {},
     "output_type": "display_data"
    }
   ],
   "source": [
    "curr = iv(system, tip, sample, tme)\n",
    "theory_plot(bias, curr)"
   ]
  },
  {
   "cell_type": "code",
   "execution_count": 11,
   "metadata": {
    "collapsed": false,
    "deletable": true,
    "editable": true
   },
   "outputs": [
    {
     "data": {
      "image/png": "[encoded data removed]",
      "text/plain": [
       "<matplotlib.figure.Figure at 0x114aa00f0>"
      ]
     },
     "metadata": {},
     "output_type": "display_data"
    }
   ],
   "source": [
    "didv = np.gradient(curr)\n",
    "theory_plot(bias, didv)"
   ]
  },
  {
   "cell_type": "markdown",
   "metadata": {
    "collapsed": true,
    "deletable": true,
    "editable": true
   },
   "source": [
    "## 6 - Summary of the spectroscopy  <a class=\"anchor\" id=\"sixth-bullet\"></a>"
   ]
  },
  {
   "cell_type": "code",
   "execution_count": 12,
   "metadata": {
    "collapsed": false,
    "deletable": true,
    "editable": true,
    "scrolled": true
   },
   "outputs": [
    {
     "data": {},
     "metadata": {},
     "output_type": "display_data"
    }
   ],
   "source": [
    "summary_plot(system, tip, sample, tme, curr, didv)"
   ]
  },
  {
   "cell_type": "code",
   "execution_count": null,
   "metadata": {
    "collapsed": true,
    "deletable": true,
    "editable": true
   },
   "outputs": [],
   "source": [
    ""
   ]
  }
 ],
 "metadata": {
  "kernelspec": {
   "display_name": "Python 3",
   "language": "python",
   "name": "python3"
  },
  "language_info": {
   "codemirror_mode": {
    "name": "ipython",
    "version": 3.0
   },
   "file_extension": ".py",
   "mimetype": "text/x-python",
   "name": "python",
   "nbconvert_exporter": "python",
   "pygments_lexer": "ipython3",
   "version": "3.6.0"
  }
 },
 "nbformat": 4,
 "nbformat_minor": 0
}